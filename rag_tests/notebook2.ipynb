{
 "cells": [
  {
   "cell_type": "code",
   "execution_count": 25,
   "metadata": {},
   "outputs": [],
   "source": [
    "from rag_tests.db.mongo import connection\n",
    "from rag_tests.core import get_logger\n",
    "logger = get_logger(__name__)\n",
    "mongo_db_connector = connection"
   ]
  },
  {
   "cell_type": "code",
   "execution_count": 26,
   "metadata": {},
   "outputs": [],
   "source": [
    "def fetch_posts_from_mongo_by_author_firstname(firstname:str):\n",
    "    _database = mongo_db_connector.get_database(\"scrabble\")\n",
    "    collection = _database[\"posts\"]\n",
    "    return collection.find({\"author_id\": {\"$regex\": firstname, \"$options\": \"i\"}})"
   ]
  },
  {
   "cell_type": "code",
   "execution_count": 27,
   "metadata": {},
   "outputs": [],
   "source": [
    "from rag_tests.models.base import BaseModel\n",
    "from rag_tests.models import PostsRawModel, PostChunkModel, PostCleanedModel, PostEmbeddedChunkModel\n",
    "from qdrant_client.models import Batch\n",
    "from rag_tests.models.clean import PostCleanedModel\n",
    "from rag_tests.data_logic.cleaning_data_handlers import PostCleaningHandler\n",
    "from rag_tests.data_logic.chunking_data_handlers import PostChunkingHandler\n",
    "from rag_tests.data_logic.embedding_data_handlers import PostEmbeddingDataHandler\n",
    "from rag_tests.qdrant_db import QdrantDatabaseConnector\n",
    "from rag_tests.config import settings\n",
    "collection_name = f\"TEST_VARUN_{settings.EMBEDDING_MODEL_ID.replace('/','_')}\""
   ]
  },
  {
   "cell_type": "code",
   "execution_count": 4,
   "metadata": {},
   "outputs": [],
   "source": [
    "# def fetch_posts_from_warehouse_by_linkedin_id(linkedin_id:str):\n",
    "#     _data_warehouse= mongo_db_connector.get_database(\"srabble_raw\")\n",
    "#     collection = _data_warehouse[\"linkedin_users_all_data\"]"
   ]
  },
  {
   "cell_type": "code",
   "execution_count": 5,
   "metadata": {},
   "outputs": [
    {
     "name": "stdout",
     "output_type": "stream",
     "text": [
      "dict_keys(['_id', 'platform', 'content', 'author_id'])\n"
     ]
    }
   ],
   "source": [
    "cursor = fetch_posts_from_mongo_by_author_firstname(\"varun\")\n",
    "raw_posts = []\n",
    "seen_posts = set()\n",
    "flag =True\n",
    "for post in cursor:\n",
    "    if flag : \n",
    "        print(post.keys())\n",
    "        flag = False\n",
    "    entry_id = post[\"_id\"]\n",
    "    if entry_id not in seen_posts:\n",
    "        seen_posts.add(entry_id)\n",
    "        # remove _id from post\n",
    "        post.pop(\"_id\")\n",
    "\n",
    "        raw_posts.append(PostsRawModel(entry_id=entry_id, **post))\n"
   ]
  },
  {
   "cell_type": "code",
   "execution_count": 6,
   "metadata": {},
   "outputs": [],
   "source": [
    "raw_posts= raw_posts[:110]"
   ]
  },
  {
   "cell_type": "code",
   "execution_count": null,
   "metadata": {},
   "outputs": [
    {
     "name": "stdout",
     "output_type": "stream",
     "text": [
      "Number of cleaned posts: 110\n"
     ]
    }
   ],
   "source": [
    "cleaning_handler  = PostCleaningHandler()\n",
    "cleaned_posts = []\n",
    "for raw_post in raw_posts:\n",
    "    cleaned_obj = cleaning_handler.clean(raw_post)\n",
    "    cleaned_posts.append(cleaned_obj)\n",
    "\n",
    "print(f\"Number of cleaned posts: {len(cleaned_posts)}\")\n"
   ]
  },
  {
   "cell_type": "code",
   "execution_count": null,
   "metadata": {},
   "outputs": [],
   "source": [
    "\n",
    "chunking_handler = PostChunkingHandler()\n",
    "chunked_posts = []\n",
    "for cleaned_post in cleaned_posts:\n",
    "    chunked_obj = chunking_handler.chunk(cleaned_post)\n",
    "    chunked_posts.append(chunked_obj)\n",
    "\n",
    "print(f\"Number of chunked posts: {len(chunked_posts)}\")\n"
   ]
  },
  {
   "cell_type": "code",
   "execution_count": null,
   "metadata": {},
   "outputs": [],
   "source": [
    "\n",
    "embedding_handler = PostEmbeddingDataHandler()\n",
    "embedded_posts:list[PostEmbeddedChunkModel] = []\n",
    "for chunked_post in chunked_posts:\n",
    "    embedded_obj = embedding_handler.embedd(chunked_post[0])\n",
    "    embedded_posts.append(embedded_obj)\n",
    "\n",
    "print(f\"Number of embedded posts: {len(embedded_posts)}\")\n"
   ]
  },
  {
   "cell_type": "code",
   "execution_count": null,
   "metadata": {},
   "outputs": [],
   "source": [
    "\n",
    "qdrant_db = QdrantDatabaseConnector()\n",
    "payloads = [\n",
    "    post.to_payload() for post in embedded_posts\n",
    "]\n",
    "ids, vectors, metadatas = zip(*payloads)\n",
    "\n",
    "collection_name = f\"TEST_VARUN_{settings.EMBEDDING_MODEL_ID.replace('/','_')}\"\n",
    "qdrant_db.create_vector_collection(collection_name)\n",
    "qdrant_db.write_data(collection_name, points=Batch(ids=ids, vectors=vectors, payloads=metadatas))\n",
    "print(f\"Chala bhai daaldi {len(embedded_posts)} posts qdrant mei\")"
   ]
  },
  {
   "cell_type": "code",
   "execution_count": 4,
   "metadata": {},
   "outputs": [],
   "source": [
    "from dotenv import load_dotenv\n",
    "from rag_tests.llm.chain import GeneralQueryChain\n",
    "from rag_tests.rag.retreiver import VectorRetriever\n",
    "from langchain_openai import ChatOpenAI\n",
    "from rag_tests.config import settings\n",
    "from rag_tests.llm.prompt_templates import GetToneUnderstandingPromptTemplate, ExtractToneFromHitsPromptTemplate\n"
   ]
  },
  {
   "cell_type": "code",
   "execution_count": 28,
   "metadata": {},
   "outputs": [
    {
     "name": "stdout",
     "output_type": "stream",
     "text": [
      "Starting the process\n",
      "\n",
      "\n",
      "\u001b[1m> Entering new LLMChain chain...\u001b[0m\n",
      "Prompt after formatting:\n",
      "\u001b[32;1m\u001b[1;3mYou are an AI language model assistant. You are being used a topic expanding service, in a \n",
      "    Rag system. The user query would describe a topic, user wants to generate a linkedin post about. \n",
      "    based on the user query, you need to generate 5 topics as \"english statements\" aka queries to make a search in a vector database.\n",
      "    These queries should be similar to the user query.\n",
      "    \n",
      "    Your task is to generate 5\n",
      "    different versions of the given user's topic to retrieve relevant documents from a vector\n",
      "    database. By generating multiple perspectives on the user topics, your goal is to help\n",
      "    the user overcome some of the limitations of the distance-based similarity search in a vector database.\n",
      "    The vector database contains metadata of posts, along with their embeddings. The embeddings are based on the posts' content.\n",
      "    Provide these queries to search in the vector database, seperated by '#next-question#'.\n",
      "\n",
      "    User query: \n",
      "    My author_id is https://www.linkedin.com/in/varunaggarwal2\n",
      "    i want to draft a LinkedIn post discussing what are common mistakes that entrepreneurs make??.\n",
      "    \u001b[0m\n",
      "\n",
      "\u001b[1m> Finished chain.\u001b[0m\n",
      "\n",
      "\n",
      "\u001b[1m> Entering new LLMChain chain...\u001b[0m\n",
      "Prompt after formatting:\n",
      "\u001b[32;1m\u001b[1;3mYou are a AI language model assistant. Your task is to extract information from a user question. The required information\n",
      "    that needs to be extracted is the author_id. Your response should consist of only the extracted author_id (eg : https://linkedin.com/in/varunAgarwal2)    If you cannot find the author_id, return \"None\"\n",
      "    User question: \n",
      "    My author_id is https://www.linkedin.com/in/varunaggarwal2\n",
      "    i want to draft a LinkedIn post discussing what are common mistakes that entrepreneurs make??.\n",
      "    \u001b[0m\n",
      "\n",
      "\u001b[1m> Finished chain.\u001b[0m\n"
     ]
    },
    {
     "name": "stderr",
     "output_type": "stream",
     "text": [
      "Batches:   0%|          | 0/1 [00:00<?, ?it/s]\n",
      "\u001b[A\n",
      "\n",
      "\n",
      "\u001b[A\u001b[A\u001b[A\n",
      "\n",
      "\u001b[A\u001b[A\n",
      "\n",
      "Batches: 100%|██████████| 1/1 [00:01<00:00,  1.07s/it]\n",
      "\u001b[A\n",
      "\n",
      "\n",
      "Batches: 100%|██████████| 1/1 [00:01<00:00,  1.07s/it]\n",
      "Batches: 100%|██████████| 1/1 [00:01<00:00,  1.08s/it]\n",
      "Batches: 100%|██████████| 1/1 [00:01<00:00,  1.08s/it]\n",
      "Batches: 100%|██████████| 1/1 [00:01<00:00,  1.08s/it]\n",
      "Batches: 100%|██████████| 1/1 [00:01<00:00,  1.08s/it]"
     ]
    },
    {
     "name": "stdout",
     "output_type": "stream",
     "text": [
      "Retrieved hits: [ScoredPoint(id='a4565651-7165-2189-a1b2-180aabb1e10d', version=0, score=0.48996496, payload={'id': 'e88f6f1a-8894-4bcc-89d3-3c057d2d3d62', 'platform': 'linkedin', 'owner_id': 'https://www.linkedin.com/in/varunaggarwal2', 'content': 'at change engine, we talk to several ai startups. < doublelinebreak / > what do i look for in startups when making an investing decision? < doublelinebreak / > 1. problem understanding : do the founders truly understand the problem? have they done value chain mapping to know how the process works today, where the inefficiencies are, and why they exist? < doublelinebreak / > 2. product demo : the demo is crucial. is the ui / ux seamless? how well does the ai solve the problem? is it a painkiller or just a nice - to - have? i love hearing user stories - - successes and failures. < doublelinebreak / > 3. team : i prefer a balance of tech and business co - founders. how driven are they? how well do they listen to customers and', 'original_content_with_emojis': \"At Change Engine, we talk to several AI startups. \\n\\nWhat do I look for in startups when making an investing decision?\\n\\n1. Problem Understanding: Do the founders truly understand the problem? Have they done value chain mapping to know how the process works today, where the inefficiencies are, and why they exist?\\n\\n2. Product Demo: The demo is crucial. Is the UI/UX seamless? How well does the AI solve the problem? Is it a painkiller or just a nice-to-have? I love hearing user stories—successes and failures.\\n\\n3. Team: I prefer a balance of tech and business co-founders. How driven are they? How well do they listen to customers and iterate on their product? Are they hungry for sales?\\n\\nA winning pitch for me is about problem understanding, kickass product and a superb team. Bonus points if your product solves a problem I or my organisation face and we're ready to become customers!\\n\\nLinkedIn News #LinkedInTopStartups #pitch #funding #aistartups\", 'original_content_without_emojis': \"At Change Engine, we talk to several AI startups. <DoubleLineBreak/>What do I look for in startups when making an investing decision?<DoubleLineBreak/>1. Problem Understanding: Do the founders truly understand the problem? Have they done value chain mapping to know how the process works today, where the inefficiencies are, and why they exist?<DoubleLineBreak/>2. Product Demo: The demo is crucial. Is the UI/UX seamless? How well does the AI solve the problem? Is it a painkiller or just a nice-to-have? I love hearing user stories--successes and failures.<DoubleLineBreak/>3. Team: I prefer a balance of tech and business co-founders. How driven are they? How well do they listen to customers and iterate on their product? Are they hungry for sales?<DoubleLineBreak/>A winning pitch for me is about problem understanding, kickass product and a superb team. Bonus points if your product solves a problem I or my organisation face and we're ready to become customers!<DoubleLineBreak/>LinkedIn News\"}, vector=None, shard_key=None, order_value=None), ScoredPoint(id='43e02da0-a2ae-342b-b86b-b232e1738aac', version=0, score=0.47802907, payload={'id': '0a4ac795-7ef6-4e2b-a0b7-4fdb310bb607', 'platform': 'linkedin', 'owner_id': 'https://www.linkedin.com/in/varunaggarwal2', 'content': 'the fight for the ace fellowship is heating up. we have 200 + applications from aspiring entrepreneurs who wants to participate in our 6 month program to build a < newline / > hashtag < newline / > # < newline / > jobtech < newline / > startup. < newline / > in parallel, we have started nurturing these entrepreneurs to fine tune their ideas to build scalable and impactful startups. < newline / > mukul singhal < newline / > from < newline / > pravega ventures < newline / > and i will discuss this thursday, \" what business models attract money? \" < newline / > we seek to demystify how one must think of the business model for his / her idea. we will start from the basics and debate some intriguing case studies. < newline / > come join', 'original_content_with_emojis': 'The fight for the ACE fellowship is heating up. We have 200+ applications from aspiring entrepreneurs who wants to participate in our 6 month program to build a\\nhashtag\\n#\\njobtech\\nstartup.\\nIn parallel, we have started nurturing these entrepreneurs to fine tune their ideas to build scalable and impactful startups.\\nMukul Singhal\\nfrom\\nPravega Ventures\\nand I will discuss this Thursday, \"What business models attract money?\"\\nWe seek to demystify how one must think of the business model for his/her idea. We will start from the basics and debate some intriguing case studies.\\nCome join us!\\nRegister here:\\nhttps://lnkd.in/gjeNKHtG\\nMore about ACE:\\nhttps://lnkd.in/dZ9hqApX', 'original_content_without_emojis': 'The fight for the ACE fellowship is heating up. We have 200+ applications from aspiring entrepreneurs who wants to participate in our 6 month program to build a<NewLine/>hashtag<NewLine/>#<NewLine/>jobtech<NewLine/>startup.<NewLine/>In parallel, we have started nurturing these entrepreneurs to fine tune their ideas to build scalable and impactful startups.<NewLine/>Mukul Singhal<NewLine/>from<NewLine/>Pravega Ventures<NewLine/>and I will discuss this Thursday, \"What business models attract money?\"<NewLine/>We seek to demystify how one must think of the business model for his/her idea. We will start from the basics and debate some intriguing case studies.<NewLine/>Come join us!<NewLine/>Register here:<NewLine/>[URL] about ACE:<NewLine/>[URL]'}, vector=None, shard_key=None, order_value=None), ScoredPoint(id='0202560a-e0d8-ed74-087c-f11d6d8b4218', version=0, score=0.41366398, payload={'id': 'eb16452c-51f3-49c6-bd30-c4a9fd44bdcb', 'platform': 'linkedin', 'owner_id': 'https://www.linkedin.com/in/varunaggarwal2', 'content': \"himanshu aggarwal < newline / > and i will talk through the aspiring minds story today at 530pm! < newline / > we will bring you insights using change engine ' s ace framework of building successful startups. < newline / > a. identifying the problem to solve < newline / > b. finding the right business model / markets < newline / > c. developing escape velocity < newline / > do not miss, register here : < newline / > [ url ] out ace here : < newline / > [ url ]\", 'original_content_with_emojis': \"Himanshu Aggarwal\\nand I will talk through the Aspiring Minds story today at 530pm!\\nWe will bring you insights using Change Engine's ACE framework of building successful startups.\\na. Identifying the problem to solve\\nb. Finding the right business model/markets\\nc. Developing escape velocity\\nDo not miss, register here:\\nhttps://lnkd.in/d7n89hCH\\nCheck out ACE here:\\nwww.changengine.in\", 'original_content_without_emojis': \"Himanshu Aggarwal<NewLine/>and I will talk through the Aspiring Minds story today at 530pm!<NewLine/>We will bring you insights using Change Engine's ACE framework of building successful startups.<NewLine/>a. Identifying the problem to solve<NewLine/>b. Finding the right business model/markets<NewLine/>c. Developing escape velocity<NewLine/>Do not miss, register here:<NewLine/>[URL] out ACE here:<NewLine/>[URL]\"}, vector=None, shard_key=None, order_value=None), ScoredPoint(id='52e9ff06-0555-9bc1-3c74-9db1bac1964d', version=0, score=0.40089417, payload={'id': '8da74724-912c-49e0-bfda-7cbd3869ac22', 'platform': 'linkedin', 'owner_id': 'https://www.linkedin.com/in/varunaggarwal2', 'content': 'we are seeing many startups failing these days. < newline / > the primary purpose of the ace program was to reduce failure rates while entrepreneurs work on tough problems. < newline / > as we announce, the next cohort of ace, join an engaging session with my colleague, < newline / > shailendra nath jha < newline / > where we will delve into the factors that often lead to startup failures. shailendra, an isb alum has 15 + experience of working in some of the most successful startups such as mmt, spinny, nearbuy etc. < newline / > he will be joined by a dynamic incubated startup founder < newline / > bhavesh kotwani < newline / > ( bits alum ) who will take the stage to share his startup journey and how < newline / > change', 'original_content_with_emojis': 'We are seeing many startups failing these days.\\nThe primary purpose of the ACE program was to reduce failure rates while entrepreneurs work on tough problems.\\nAs we announce, the next cohort of ACE, join an engaging session with my colleague,\\nShailendra Nath Jha\\nwhere we will delve into the factors that often lead to startup failures. Shailendra, an ISB alum has 15+ experience of working in some of the most successful startups such as MMT, Spinny, Nearbuy etc.\\nHe will be joined by a dynamic incubated startup founder\\nBhavesh Kotwani\\n(BITS alum) who will take the stage to share his startup journey and how\\nChange Engine\\nhas helped him find the right idea and avoid these common mistakes.\\nSession Topic: Why are so many startups failing? And how you can build a successful one\\nDate: Oct 12th, 2023\\nTime: 5pm\\nOnline session: Google Meet\\nRegister here to attend the session:\\nhttps://lnkd.in/dYubBPEV\\nKnow more about ACE:\\nhttps://bit.ly/3PWLckW', 'original_content_without_emojis': 'We are seeing many startups failing these days.<NewLine/>The primary purpose of the ACE program was to reduce failure rates while entrepreneurs work on tough problems.<NewLine/>As we announce, the next cohort of ACE, join an engaging session with my colleague,<NewLine/>Shailendra Nath Jha<NewLine/>where we will delve into the factors that often lead to startup failures. Shailendra, an ISB alum has 15+ experience of working in some of the most successful startups such as MMT, Spinny, Nearbuy etc.<NewLine/>He will be joined by a dynamic incubated startup founder<NewLine/>Bhavesh Kotwani<NewLine/>(BITS alum) who will take the stage to share his startup journey and how<NewLine/>Change Engine<NewLine/>has helped him find the right idea and avoid these common mistakes.<NewLine/>Session Topic: Why are so many startups failing? And how you can build a successful one<NewLine/>Date: Oct 12th, 2023<NewLine/>Time: 5pm<NewLine/>Online session: Google Meet<NewLine/>Register here to attend the session:<NewLine/>[URL] more about ACE:<NewLine/>[URL]'}, vector=None, shard_key=None, order_value=None), ScoredPoint(id='3bef5034-4d3c-0a92-abf4-a8b3c68dbbb6', version=0, score=0.4859446, payload={'id': 'd1abd724-51da-454c-9564-1d83b6aa2d97', 'platform': 'linkedin', 'owner_id': 'https://www.linkedin.com/in/varunaggarwal2', 'content': 'building deeptech startups is challenging! < newline / > we looked into 10 deeptech < newline / > hashtag < newline / > # < newline / > startups < newline / > to understand what they did right and where they went wrong. we distilled this knowledge in 6 < newline / > hashtag < newline / > # < newline / > success < newline / > hashtag < newline / > # < newline / > hacks < newline / >! < newline / > standing on the shoulders of others, make you see further, and ahead of time. if you are a < newline / > hashtag < newline / > # < newline / > deeptech < newline / > hashtag < newline / > # < newline / > entrepreneur < newline / >, a wannabe, or work at one, these are the hacks you need to apply every day to the business, or also, when you step back a little, look at your business from a', 'original_content_with_emojis': \"Building deeptech startups is challenging!\\nWe looked into 10 deeptech\\nhashtag\\n#\\nstartups\\nto understand what they did right and where they went wrong. We distilled this knowledge in 6\\nhashtag\\n#\\nSuccess\\nhashtag\\n#\\nHacks\\n!\\nStanding on the shoulders of others, make you see further, and ahead of time.\\xa0If you are a\\nhashtag\\n#\\ndeeptech\\nhashtag\\n#\\nentrepreneur\\n, a wannabe, or work at one, these are the hacks you need to apply every day to the business, or also, when you step back a little, look at your business from a distance and strategize your next steps.\\nRead the cards to know the hacks!\\nTell us if you agree/disagree, did you face similar\\nhashtag\\n#\\nchallenges\\nand if you have any tips to share.\\nThese hacks are taken from the book, '\\nhashtag\\n#\\nFuturepreneurs\\n' written by me and\\nNistha Tripathi\\n. Order it here for learning more about these hacks.\\nhttps://lnkd.in/g9xXhVPP\\nShailendra Nath Jha\\nVindhya Agrawal\\nTarun Khanna\\nMudit Narain\\nJayant Krishna\", 'original_content_without_emojis': \"Building deeptech startups is challenging!<NewLine/>We looked into 10 deeptech<NewLine/>hashtag<NewLine/>#<NewLine/>startups<NewLine/>to understand what they did right and where they went wrong. We distilled this knowledge in 6<NewLine/>hashtag<NewLine/>#<NewLine/>Success<NewLine/>hashtag<NewLine/>#<NewLine/>Hacks<NewLine/>!<NewLine/>Standing on the shoulders of others, make you see further, and ahead of time. If you are a<NewLine/>hashtag<NewLine/>#<NewLine/>deeptech<NewLine/>hashtag<NewLine/>#<NewLine/>entrepreneur<NewLine/>, a wannabe, or work at one, these are the hacks you need to apply every day to the business, or also, when you step back a little, look at your business from a distance and strategize your next steps.<NewLine/>Read the cards to know the hacks!<NewLine/>Tell us if you agree/disagree, did you face similar<NewLine/>hashtag<NewLine/>#<NewLine/>challenges<NewLine/>and if you have any tips to share.<NewLine/>These hacks are taken from the book, '<NewLine/>hashtag<NewLine/>#<NewLine/>Futurepreneurs<NewLine/>' written by me and<NewLine/>Nistha Tripathi<NewLine/>. Order it here for learning more about these hacks.<NewLine/>[URL] Nath Jha<NewLine/>Vindhya Agrawal<NewLine/>Tarun Khanna<NewLine/>Mudit Narain<NewLine/>Jayant Krishna\"}, vector=None, shard_key=None, order_value=None), ScoredPoint(id='210eb505-1807-375e-e397-03872ba6cce0', version=0, score=0.45699036, payload={'id': '5080d646-1fbe-4b74-9739-348e3fad5bcd', 'platform': 'linkedin', 'owner_id': 'https://www.linkedin.com/in/varunaggarwal2', 'content': 'great interacting with new dynamic entrepreneurs and hearing their ideas over a full week and thinking about how to build scalable innovative businesses and non - profits. < newline / > from ai led seo platform to new age gaming to fixing affordable school and to empowering rural women, there were a wonderful set of ideas! < newline / > looking forward to working with many of these entrepreneurs in coming days.', 'original_content_with_emojis': 'Great interacting with new dynamic entrepreneurs and hearing their ideas over a full week and thinking about how to build scalable innovative businesses and non-profits.\\nFrom AI led SEO platform to new age gaming to fixing affordable school and to empowering rural women, there were a wonderful set of ideas!\\nLooking forward to working with many of these entrepreneurs in coming days.', 'original_content_without_emojis': 'Great interacting with new dynamic entrepreneurs and hearing their ideas over a full week and thinking about how to build scalable innovative businesses and non-profits.<NewLine/>From AI led SEO platform to new age gaming to fixing affordable school and to empowering rural women, there were a wonderful set of ideas!<NewLine/>Looking forward to working with many of these entrepreneurs in coming days.'}, vector=None, shard_key=None, order_value=None), ScoredPoint(id='a4565651-7165-2189-a1b2-180aabb1e10d', version=0, score=0.5319023, payload={'id': 'e88f6f1a-8894-4bcc-89d3-3c057d2d3d62', 'platform': 'linkedin', 'owner_id': 'https://www.linkedin.com/in/varunaggarwal2', 'content': 'at change engine, we talk to several ai startups. < doublelinebreak / > what do i look for in startups when making an investing decision? < doublelinebreak / > 1. problem understanding : do the founders truly understand the problem? have they done value chain mapping to know how the process works today, where the inefficiencies are, and why they exist? < doublelinebreak / > 2. product demo : the demo is crucial. is the ui / ux seamless? how well does the ai solve the problem? is it a painkiller or just a nice - to - have? i love hearing user stories - - successes and failures. < doublelinebreak / > 3. team : i prefer a balance of tech and business co - founders. how driven are they? how well do they listen to customers and', 'original_content_with_emojis': \"At Change Engine, we talk to several AI startups. \\n\\nWhat do I look for in startups when making an investing decision?\\n\\n1. Problem Understanding: Do the founders truly understand the problem? Have they done value chain mapping to know how the process works today, where the inefficiencies are, and why they exist?\\n\\n2. Product Demo: The demo is crucial. Is the UI/UX seamless? How well does the AI solve the problem? Is it a painkiller or just a nice-to-have? I love hearing user stories—successes and failures.\\n\\n3. Team: I prefer a balance of tech and business co-founders. How driven are they? How well do they listen to customers and iterate on their product? Are they hungry for sales?\\n\\nA winning pitch for me is about problem understanding, kickass product and a superb team. Bonus points if your product solves a problem I or my organisation face and we're ready to become customers!\\n\\nLinkedIn News #LinkedInTopStartups #pitch #funding #aistartups\", 'original_content_without_emojis': \"At Change Engine, we talk to several AI startups. <DoubleLineBreak/>What do I look for in startups when making an investing decision?<DoubleLineBreak/>1. Problem Understanding: Do the founders truly understand the problem? Have they done value chain mapping to know how the process works today, where the inefficiencies are, and why they exist?<DoubleLineBreak/>2. Product Demo: The demo is crucial. Is the UI/UX seamless? How well does the AI solve the problem? Is it a painkiller or just a nice-to-have? I love hearing user stories--successes and failures.<DoubleLineBreak/>3. Team: I prefer a balance of tech and business co-founders. How driven are they? How well do they listen to customers and iterate on their product? Are they hungry for sales?<DoubleLineBreak/>A winning pitch for me is about problem understanding, kickass product and a superb team. Bonus points if your product solves a problem I or my organisation face and we're ready to become customers!<DoubleLineBreak/>LinkedIn News\"}, vector=None, shard_key=None, order_value=None), ScoredPoint(id='52e9ff06-0555-9bc1-3c74-9db1bac1964d', version=0, score=0.50884396, payload={'id': '8da74724-912c-49e0-bfda-7cbd3869ac22', 'platform': 'linkedin', 'owner_id': 'https://www.linkedin.com/in/varunaggarwal2', 'content': 'we are seeing many startups failing these days. < newline / > the primary purpose of the ace program was to reduce failure rates while entrepreneurs work on tough problems. < newline / > as we announce, the next cohort of ace, join an engaging session with my colleague, < newline / > shailendra nath jha < newline / > where we will delve into the factors that often lead to startup failures. shailendra, an isb alum has 15 + experience of working in some of the most successful startups such as mmt, spinny, nearbuy etc. < newline / > he will be joined by a dynamic incubated startup founder < newline / > bhavesh kotwani < newline / > ( bits alum ) who will take the stage to share his startup journey and how < newline / > change', 'original_content_with_emojis': 'We are seeing many startups failing these days.\\nThe primary purpose of the ACE program was to reduce failure rates while entrepreneurs work on tough problems.\\nAs we announce, the next cohort of ACE, join an engaging session with my colleague,\\nShailendra Nath Jha\\nwhere we will delve into the factors that often lead to startup failures. Shailendra, an ISB alum has 15+ experience of working in some of the most successful startups such as MMT, Spinny, Nearbuy etc.\\nHe will be joined by a dynamic incubated startup founder\\nBhavesh Kotwani\\n(BITS alum) who will take the stage to share his startup journey and how\\nChange Engine\\nhas helped him find the right idea and avoid these common mistakes.\\nSession Topic: Why are so many startups failing? And how you can build a successful one\\nDate: Oct 12th, 2023\\nTime: 5pm\\nOnline session: Google Meet\\nRegister here to attend the session:\\nhttps://lnkd.in/dYubBPEV\\nKnow more about ACE:\\nhttps://bit.ly/3PWLckW', 'original_content_without_emojis': 'We are seeing many startups failing these days.<NewLine/>The primary purpose of the ACE program was to reduce failure rates while entrepreneurs work on tough problems.<NewLine/>As we announce, the next cohort of ACE, join an engaging session with my colleague,<NewLine/>Shailendra Nath Jha<NewLine/>where we will delve into the factors that often lead to startup failures. Shailendra, an ISB alum has 15+ experience of working in some of the most successful startups such as MMT, Spinny, Nearbuy etc.<NewLine/>He will be joined by a dynamic incubated startup founder<NewLine/>Bhavesh Kotwani<NewLine/>(BITS alum) who will take the stage to share his startup journey and how<NewLine/>Change Engine<NewLine/>has helped him find the right idea and avoid these common mistakes.<NewLine/>Session Topic: Why are so many startups failing? And how you can build a successful one<NewLine/>Date: Oct 12th, 2023<NewLine/>Time: 5pm<NewLine/>Online session: Google Meet<NewLine/>Register here to attend the session:<NewLine/>[URL] more about ACE:<NewLine/>[URL]'}, vector=None, shard_key=None, order_value=None), ScoredPoint(id='52e9ff06-0555-9bc1-3c74-9db1bac1964d', version=0, score=0.485951, payload={'id': '8da74724-912c-49e0-bfda-7cbd3869ac22', 'platform': 'linkedin', 'owner_id': 'https://www.linkedin.com/in/varunaggarwal2', 'content': 'we are seeing many startups failing these days. < newline / > the primary purpose of the ace program was to reduce failure rates while entrepreneurs work on tough problems. < newline / > as we announce, the next cohort of ace, join an engaging session with my colleague, < newline / > shailendra nath jha < newline / > where we will delve into the factors that often lead to startup failures. shailendra, an isb alum has 15 + experience of working in some of the most successful startups such as mmt, spinny, nearbuy etc. < newline / > he will be joined by a dynamic incubated startup founder < newline / > bhavesh kotwani < newline / > ( bits alum ) who will take the stage to share his startup journey and how < newline / > change', 'original_content_with_emojis': 'We are seeing many startups failing these days.\\nThe primary purpose of the ACE program was to reduce failure rates while entrepreneurs work on tough problems.\\nAs we announce, the next cohort of ACE, join an engaging session with my colleague,\\nShailendra Nath Jha\\nwhere we will delve into the factors that often lead to startup failures. Shailendra, an ISB alum has 15+ experience of working in some of the most successful startups such as MMT, Spinny, Nearbuy etc.\\nHe will be joined by a dynamic incubated startup founder\\nBhavesh Kotwani\\n(BITS alum) who will take the stage to share his startup journey and how\\nChange Engine\\nhas helped him find the right idea and avoid these common mistakes.\\nSession Topic: Why are so many startups failing? And how you can build a successful one\\nDate: Oct 12th, 2023\\nTime: 5pm\\nOnline session: Google Meet\\nRegister here to attend the session:\\nhttps://lnkd.in/dYubBPEV\\nKnow more about ACE:\\nhttps://bit.ly/3PWLckW', 'original_content_without_emojis': 'We are seeing many startups failing these days.<NewLine/>The primary purpose of the ACE program was to reduce failure rates while entrepreneurs work on tough problems.<NewLine/>As we announce, the next cohort of ACE, join an engaging session with my colleague,<NewLine/>Shailendra Nath Jha<NewLine/>where we will delve into the factors that often lead to startup failures. Shailendra, an ISB alum has 15+ experience of working in some of the most successful startups such as MMT, Spinny, Nearbuy etc.<NewLine/>He will be joined by a dynamic incubated startup founder<NewLine/>Bhavesh Kotwani<NewLine/>(BITS alum) who will take the stage to share his startup journey and how<NewLine/>Change Engine<NewLine/>has helped him find the right idea and avoid these common mistakes.<NewLine/>Session Topic: Why are so many startups failing? And how you can build a successful one<NewLine/>Date: Oct 12th, 2023<NewLine/>Time: 5pm<NewLine/>Online session: Google Meet<NewLine/>Register here to attend the session:<NewLine/>[URL] more about ACE:<NewLine/>[URL]'}, vector=None, shard_key=None, order_value=None), ScoredPoint(id='a4565651-7165-2189-a1b2-180aabb1e10d', version=0, score=0.46486852, payload={'id': 'e88f6f1a-8894-4bcc-89d3-3c057d2d3d62', 'platform': 'linkedin', 'owner_id': 'https://www.linkedin.com/in/varunaggarwal2', 'content': 'at change engine, we talk to several ai startups. < doublelinebreak / > what do i look for in startups when making an investing decision? < doublelinebreak / > 1. problem understanding : do the founders truly understand the problem? have they done value chain mapping to know how the process works today, where the inefficiencies are, and why they exist? < doublelinebreak / > 2. product demo : the demo is crucial. is the ui / ux seamless? how well does the ai solve the problem? is it a painkiller or just a nice - to - have? i love hearing user stories - - successes and failures. < doublelinebreak / > 3. team : i prefer a balance of tech and business co - founders. how driven are they? how well do they listen to customers and', 'original_content_with_emojis': \"At Change Engine, we talk to several AI startups. \\n\\nWhat do I look for in startups when making an investing decision?\\n\\n1. Problem Understanding: Do the founders truly understand the problem? Have they done value chain mapping to know how the process works today, where the inefficiencies are, and why they exist?\\n\\n2. Product Demo: The demo is crucial. Is the UI/UX seamless? How well does the AI solve the problem? Is it a painkiller or just a nice-to-have? I love hearing user stories—successes and failures.\\n\\n3. Team: I prefer a balance of tech and business co-founders. How driven are they? How well do they listen to customers and iterate on their product? Are they hungry for sales?\\n\\nA winning pitch for me is about problem understanding, kickass product and a superb team. Bonus points if your product solves a problem I or my organisation face and we're ready to become customers!\\n\\nLinkedIn News #LinkedInTopStartups #pitch #funding #aistartups\", 'original_content_without_emojis': \"At Change Engine, we talk to several AI startups. <DoubleLineBreak/>What do I look for in startups when making an investing decision?<DoubleLineBreak/>1. Problem Understanding: Do the founders truly understand the problem? Have they done value chain mapping to know how the process works today, where the inefficiencies are, and why they exist?<DoubleLineBreak/>2. Product Demo: The demo is crucial. Is the UI/UX seamless? How well does the AI solve the problem? Is it a painkiller or just a nice-to-have? I love hearing user stories--successes and failures.<DoubleLineBreak/>3. Team: I prefer a balance of tech and business co-founders. How driven are they? How well do they listen to customers and iterate on their product? Are they hungry for sales?<DoubleLineBreak/>A winning pitch for me is about problem understanding, kickass product and a superb team. Bonus points if your product solves a problem I or my organisation face and we're ready to become customers!<DoubleLineBreak/>LinkedIn News\"}, vector=None, shard_key=None, order_value=None)]\n"
     ]
    },
    {
     "name": "stderr",
     "output_type": "stream",
     "text": [
      "\n"
     ]
    }
   ],
   "source": [
    "load_dotenv()\n",
    "print(\"Starting the process\")\n",
    "\n",
    "author_id = \"https://www.linkedin.com/in/varunaggarwal2\"\n",
    "query = \"\"\"\n",
    "    My author_id is https://www.linkedin.com/in/varunaggarwal2\n",
    "    i want to draft a LinkedIn post discussing what are common mistakes that entrepreneurs make??.\n",
    "    \"\"\"\n",
    "retriever = VectorRetriever(query=query)\n",
    "hits = retriever.retrieve_top_k(k=6, to_expand_to_n_queries=5, collection_name=collection_name)\n",
    "logger.info(f\"Retrieved hits: {hits}\")\n",
    "print(f\"Retrieved hits: {hits}\")\n",
    "\n"
   ]
  },
  {
   "cell_type": "code",
   "execution_count": 29,
   "metadata": {},
   "outputs": [
    {
     "data": {
      "text/plain": [
       "[{'Post 0': 'at change engine, we talk to several ai startups. < doublelinebreak / > what do i look for in startups when making an investing decision? < doublelinebreak / > 1. problem understanding : do the founders truly understand the problem? have they done value chain mapping to know how the process works today, where the inefficiencies are, and why they exist? < doublelinebreak / > 2. product demo : the demo is crucial. is the ui / ux seamless? how well does the ai solve the problem? is it a painkiller or just a nice - to - have? i love hearing user stories - - successes and failures. < doublelinebreak / > 3. team : i prefer a balance of tech and business co - founders. how driven are they? how well do they listen to customers and'},\n",
       " {'Post 1': 'the fight for the ace fellowship is heating up. we have 200 + applications from aspiring entrepreneurs who wants to participate in our 6 month program to build a < newline / > hashtag < newline / > # < newline / > jobtech < newline / > startup. < newline / > in parallel, we have started nurturing these entrepreneurs to fine tune their ideas to build scalable and impactful startups. < newline / > mukul singhal < newline / > from < newline / > pravega ventures < newline / > and i will discuss this thursday, \" what business models attract money? \" < newline / > we seek to demystify how one must think of the business model for his / her idea. we will start from the basics and debate some intriguing case studies. < newline / > come join'},\n",
       " {'Post 2': \"himanshu aggarwal < newline / > and i will talk through the aspiring minds story today at 530pm! < newline / > we will bring you insights using change engine ' s ace framework of building successful startups. < newline / > a. identifying the problem to solve < newline / > b. finding the right business model / markets < newline / > c. developing escape velocity < newline / > do not miss, register here : < newline / > [ url ] out ace here : < newline / > [ url ]\"},\n",
       " {'Post 3': 'we are seeing many startups failing these days. < newline / > the primary purpose of the ace program was to reduce failure rates while entrepreneurs work on tough problems. < newline / > as we announce, the next cohort of ace, join an engaging session with my colleague, < newline / > shailendra nath jha < newline / > where we will delve into the factors that often lead to startup failures. shailendra, an isb alum has 15 + experience of working in some of the most successful startups such as mmt, spinny, nearbuy etc. < newline / > he will be joined by a dynamic incubated startup founder < newline / > bhavesh kotwani < newline / > ( bits alum ) who will take the stage to share his startup journey and how < newline / > change'},\n",
       " {'Post 4': 'building deeptech startups is challenging! < newline / > we looked into 10 deeptech < newline / > hashtag < newline / > # < newline / > startups < newline / > to understand what they did right and where they went wrong. we distilled this knowledge in 6 < newline / > hashtag < newline / > # < newline / > success < newline / > hashtag < newline / > # < newline / > hacks < newline / >! < newline / > standing on the shoulders of others, make you see further, and ahead of time. if you are a < newline / > hashtag < newline / > # < newline / > deeptech < newline / > hashtag < newline / > # < newline / > entrepreneur < newline / >, a wannabe, or work at one, these are the hacks you need to apply every day to the business, or also, when you step back a little, look at your business from a'},\n",
       " {'Post 5': 'great interacting with new dynamic entrepreneurs and hearing their ideas over a full week and thinking about how to build scalable innovative businesses and non - profits. < newline / > from ai led seo platform to new age gaming to fixing affordable school and to empowering rural women, there were a wonderful set of ideas! < newline / > looking forward to working with many of these entrepreneurs in coming days.'},\n",
       " {'Post 6': 'at change engine, we talk to several ai startups. < doublelinebreak / > what do i look for in startups when making an investing decision? < doublelinebreak / > 1. problem understanding : do the founders truly understand the problem? have they done value chain mapping to know how the process works today, where the inefficiencies are, and why they exist? < doublelinebreak / > 2. product demo : the demo is crucial. is the ui / ux seamless? how well does the ai solve the problem? is it a painkiller or just a nice - to - have? i love hearing user stories - - successes and failures. < doublelinebreak / > 3. team : i prefer a balance of tech and business co - founders. how driven are they? how well do they listen to customers and'},\n",
       " {'Post 7': 'we are seeing many startups failing these days. < newline / > the primary purpose of the ace program was to reduce failure rates while entrepreneurs work on tough problems. < newline / > as we announce, the next cohort of ace, join an engaging session with my colleague, < newline / > shailendra nath jha < newline / > where we will delve into the factors that often lead to startup failures. shailendra, an isb alum has 15 + experience of working in some of the most successful startups such as mmt, spinny, nearbuy etc. < newline / > he will be joined by a dynamic incubated startup founder < newline / > bhavesh kotwani < newline / > ( bits alum ) who will take the stage to share his startup journey and how < newline / > change'},\n",
       " {'Post 8': 'we are seeing many startups failing these days. < newline / > the primary purpose of the ace program was to reduce failure rates while entrepreneurs work on tough problems. < newline / > as we announce, the next cohort of ace, join an engaging session with my colleague, < newline / > shailendra nath jha < newline / > where we will delve into the factors that often lead to startup failures. shailendra, an isb alum has 15 + experience of working in some of the most successful startups such as mmt, spinny, nearbuy etc. < newline / > he will be joined by a dynamic incubated startup founder < newline / > bhavesh kotwani < newline / > ( bits alum ) who will take the stage to share his startup journey and how < newline / > change'},\n",
       " {'Post 9': 'at change engine, we talk to several ai startups. < doublelinebreak / > what do i look for in startups when making an investing decision? < doublelinebreak / > 1. problem understanding : do the founders truly understand the problem? have they done value chain mapping to know how the process works today, where the inefficiencies are, and why they exist? < doublelinebreak / > 2. product demo : the demo is crucial. is the ui / ux seamless? how well does the ai solve the problem? is it a painkiller or just a nice - to - have? i love hearing user stories - - successes and failures. < doublelinebreak / > 3. team : i prefer a balance of tech and business co - founders. how driven are they? how well do they listen to customers and'}]"
      ]
     },
     "execution_count": 29,
     "metadata": {},
     "output_type": "execute_result"
    }
   ],
   "source": [
    "[{\"Post \" + str(i): hit.payload['content']} for i, hit in enumerate(hits)]"
   ]
  },
  {
   "cell_type": "code",
   "execution_count": 30,
   "metadata": {},
   "outputs": [
    {
     "name": "stdout",
     "output_type": "stream",
     "text": [
      "\n",
      "\n",
      "\u001b[1m> Entering new LLMChain chain...\u001b[0m\n",
      "Prompt after formatting:\n",
      "\u001b[32;1m\u001b[1;3mYou are a content assistant specialized in analyzing text to extract tone, style, and formatting guidelines. \n",
      "    Your goal is to help identify consistent patterns and rules in a user’s writing style by examining their past content.\n",
      "      Based on these insights, generate specific rules for style, tone, vocabulary, sentence structure, and formatting to ensure \n",
      "      future content aligns with the user's established voice.\n",
      "      Analyze the following posts and derive a set of rules for generating content that aligns with my writing style and tone. Include guidelines for:  \n",
      "        1.Style and Tone (formal, conversational, persuasive).\n",
      "        2.Vocabulary Preferences (preferred words/phrases, jargon to avoid).\n",
      "        3.Sentence Structure (active vs. passive voice, sentence length variation).\n",
      "        4.Platform-Specific Formatting (LinkedIn, blog posts, emails).\n",
      "        5.Inclusivity & Accessibility (gender-neutral language, readability).\n",
      "        6.Semantic Rules (context-aware tone adjustments, avoid repetition).\n",
      "        7.Consistency (punctuation, capitalization, formatting).\n",
      "        Here are USER's past posts:\n",
      "        <begin_posts> [{'Post 0': 'at change engine, we talk to several ai startups. < doublelinebreak / > what do i look for in startups when making an investing decision? < doublelinebreak / > 1. problem understanding : do the founders truly understand the problem? have they done value chain mapping to know how the process works today, where the inefficiencies are, and why they exist? < doublelinebreak / > 2. product demo : the demo is crucial. is the ui / ux seamless? how well does the ai solve the problem? is it a painkiller or just a nice - to - have? i love hearing user stories - - successes and failures. < doublelinebreak / > 3. team : i prefer a balance of tech and business co - founders. how driven are they? how well do they listen to customers and'}, {'Post 1': 'the fight for the ace fellowship is heating up. we have 200 + applications from aspiring entrepreneurs who wants to participate in our 6 month program to build a < newline / > hashtag < newline / > # < newline / > jobtech < newline / > startup. < newline / > in parallel, we have started nurturing these entrepreneurs to fine tune their ideas to build scalable and impactful startups. < newline / > mukul singhal < newline / > from < newline / > pravega ventures < newline / > and i will discuss this thursday, \" what business models attract money? \" < newline / > we seek to demystify how one must think of the business model for his / her idea. we will start from the basics and debate some intriguing case studies. < newline / > come join'}, {'Post 2': \"himanshu aggarwal < newline / > and i will talk through the aspiring minds story today at 530pm! < newline / > we will bring you insights using change engine ' s ace framework of building successful startups. < newline / > a. identifying the problem to solve < newline / > b. finding the right business model / markets < newline / > c. developing escape velocity < newline / > do not miss, register here : < newline / > [ url ] out ace here : < newline / > [ url ]\"}, {'Post 3': 'we are seeing many startups failing these days. < newline / > the primary purpose of the ace program was to reduce failure rates while entrepreneurs work on tough problems. < newline / > as we announce, the next cohort of ace, join an engaging session with my colleague, < newline / > shailendra nath jha < newline / > where we will delve into the factors that often lead to startup failures. shailendra, an isb alum has 15 + experience of working in some of the most successful startups such as mmt, spinny, nearbuy etc. < newline / > he will be joined by a dynamic incubated startup founder < newline / > bhavesh kotwani < newline / > ( bits alum ) who will take the stage to share his startup journey and how < newline / > change'}, {'Post 4': 'building deeptech startups is challenging! < newline / > we looked into 10 deeptech < newline / > hashtag < newline / > # < newline / > startups < newline / > to understand what they did right and where they went wrong. we distilled this knowledge in 6 < newline / > hashtag < newline / > # < newline / > success < newline / > hashtag < newline / > # < newline / > hacks < newline / >! < newline / > standing on the shoulders of others, make you see further, and ahead of time. if you are a < newline / > hashtag < newline / > # < newline / > deeptech < newline / > hashtag < newline / > # < newline / > entrepreneur < newline / >, a wannabe, or work at one, these are the hacks you need to apply every day to the business, or also, when you step back a little, look at your business from a'}, {'Post 5': 'great interacting with new dynamic entrepreneurs and hearing their ideas over a full week and thinking about how to build scalable innovative businesses and non - profits. < newline / > from ai led seo platform to new age gaming to fixing affordable school and to empowering rural women, there were a wonderful set of ideas! < newline / > looking forward to working with many of these entrepreneurs in coming days.'}, {'Post 6': 'at change engine, we talk to several ai startups. < doublelinebreak / > what do i look for in startups when making an investing decision? < doublelinebreak / > 1. problem understanding : do the founders truly understand the problem? have they done value chain mapping to know how the process works today, where the inefficiencies are, and why they exist? < doublelinebreak / > 2. product demo : the demo is crucial. is the ui / ux seamless? how well does the ai solve the problem? is it a painkiller or just a nice - to - have? i love hearing user stories - - successes and failures. < doublelinebreak / > 3. team : i prefer a balance of tech and business co - founders. how driven are they? how well do they listen to customers and'}, {'Post 7': 'we are seeing many startups failing these days. < newline / > the primary purpose of the ace program was to reduce failure rates while entrepreneurs work on tough problems. < newline / > as we announce, the next cohort of ace, join an engaging session with my colleague, < newline / > shailendra nath jha < newline / > where we will delve into the factors that often lead to startup failures. shailendra, an isb alum has 15 + experience of working in some of the most successful startups such as mmt, spinny, nearbuy etc. < newline / > he will be joined by a dynamic incubated startup founder < newline / > bhavesh kotwani < newline / > ( bits alum ) who will take the stage to share his startup journey and how < newline / > change'}, {'Post 8': 'we are seeing many startups failing these days. < newline / > the primary purpose of the ace program was to reduce failure rates while entrepreneurs work on tough problems. < newline / > as we announce, the next cohort of ace, join an engaging session with my colleague, < newline / > shailendra nath jha < newline / > where we will delve into the factors that often lead to startup failures. shailendra, an isb alum has 15 + experience of working in some of the most successful startups such as mmt, spinny, nearbuy etc. < newline / > he will be joined by a dynamic incubated startup founder < newline / > bhavesh kotwani < newline / > ( bits alum ) who will take the stage to share his startup journey and how < newline / > change'}, {'Post 9': 'at change engine, we talk to several ai startups. < doublelinebreak / > what do i look for in startups when making an investing decision? < doublelinebreak / > 1. problem understanding : do the founders truly understand the problem? have they done value chain mapping to know how the process works today, where the inefficiencies are, and why they exist? < doublelinebreak / > 2. product demo : the demo is crucial. is the ui / ux seamless? how well does the ai solve the problem? is it a painkiller or just a nice - to - have? i love hearing user stories - - successes and failures. < doublelinebreak / > 3. team : i prefer a balance of tech and business co - founders. how driven are they? how well do they listen to customers and'}] <end_posts>\n",
      "        Provide the extracted rules in a structured format with examples where applicable. RETURN DATA IN JSON FORMAT ONLY.\n",
      "      \u001b[0m\n",
      "\n",
      "\u001b[1m> Finished chain.\u001b[0m\n"
     ]
    }
   ],
   "source": [
    "# Extracting tone from all hits\n",
    "model = ChatOpenAI(model=settings.OPENAI_MODEL_ID, temperature=0)   \n",
    "get_tone_understanding_prompt_template = ExtractToneFromHitsPromptTemplate()\n",
    "prompt_template = get_tone_understanding_prompt_template.create_template()\n",
    "chain = GeneralQueryChain().get_chain(\n",
    "    llm=model, output_key=\"tone_understanding\", template=prompt_template\n",
    ")\n",
    "response = chain.invoke({\"author_id\":\"https://www.linkedin.com/in/varunaggarwal2\", \"posts\":[{\"Post \" + str(i): hit.payload['content']} for i, hit in enumerate(hits)]})\n",
    "logger.info(f\"Get Tone Understanding.generate_response() result: \\033[93m{response['tone_understanding']}\\033[0m\")"
   ]
  },
  {
   "cell_type": "code",
   "execution_count": 31,
   "metadata": {},
   "outputs": [
    {
     "name": "stdout",
     "output_type": "stream",
     "text": [
      "{\n",
      "\"Style_and_Tone\": {\n",
      "    \"Description\": \"The user's writing style is formal and informative, with a focus on sharing insights and knowledge. The tone is authoritative and confident, often providing advice or sharing personal experiences.\",\n",
      "    \"Examples\": [\"at change engine, we talk to several ai startups.\", \"the fight for the ace fellowship is heating up.\"]\n",
      "},\n",
      "\"Vocabulary_Preferences\": {\n",
      "    \"Description\": \"The user prefers professional and industry-specific vocabulary, often related to startups, entrepreneurship, and technology. Jargon and acronyms are frequently used, but they are generally well-explained or commonly understood within the industry.\",\n",
      "    \"Examples\": [\"problem understanding\", \"product demo\", \"business model\", \"ace fellowship\", \"deeptech startups\"]\n",
      "},\n",
      "\"Sentence_Structure\": {\n",
      "    \"Description\": \"The user primarily uses active voice and varies sentence length to maintain reader interest. Lists and bullet points are often used to break down complex ideas or processes.\",\n",
      "    \"Examples\": [\"what do i look for in startups when making an investing decision?\", \"we have 200 + applications from aspiring entrepreneurs who wants to participate in our 6 month program.\"]\n",
      "},\n",
      "\"Platform_Specific_Formatting\": {\n",
      "    \"Description\": \"The user uses platform-specific formatting such as hashtags and newlines on platforms like LinkedIn. For blog posts, the user uses double line breaks to separate paragraphs or ideas.\",\n",
      "    \"Examples\": [\"hashtag # jobtech\", \"< newline / >\", \"< doublelinebreak / >\"]\n",
      "},\n",
      "\"Inclusivity_and_Accessibility\": {\n",
      "    \"Description\": \"The user's language is gender-neutral and inclusive. The readability is high, with clear and concise sentences that are easy to understand.\",\n",
      "    \"Examples\": [\"how well do they listen to customers\", \"we have started nurturing these entrepreneurs\"]\n",
      "},\n",
      "\"Semantic_Rules\": {\n",
      "    \"Description\": \"The user adjusts the tone based on the context, often using a more conversational tone when addressing the audience directly. Repetition is avoided, with the user often introducing new ideas or insights in each post.\",\n",
      "    \"Examples\": [\"we are seeing many startups failing these days.\", \"great interacting with new dynamic entrepreneurs\"]\n",
      "},\n",
      "\"Consistency\": {\n",
      "    \"Description\": \"The user is consistent in punctuation, capitalization, and formatting. Sentences are well-structured and punctuated, and capitalization rules are followed.\",\n",
      "    \"Examples\": [\"at change engine, we talk to several ai startups.\", \"the fight for the ace fellowship is heating up.\"]\n",
      "}\n",
      "}\n"
     ]
    }
   ],
   "source": [
    "print(response['tone_understanding'])\n",
    "# print(\"{\\n\\\"Style and Tone\\\": {\\n    \\\"Description\\\": \\\"The user's writing style is formal and informative, with a conversational tone. The user often shares insights, advice, and personal experiences related to startups, entrepreneurship, and investment. The tone is generally positive and encouraging.\\\",\\n    \\\"Examples\\\": [\\\"building deeptech startups is challenging!\\\", \\\"what do i look for in startups when making an investing decision?\\\"]\\n},\\n\\\"Vocabulary Preferences\\\": {\\n    \\\"Description\\\": \\\"The user prefers using industry-specific jargon related to startups, entrepreneurship, and technology. The user also uses hashtags frequently to highlight key topics.\\\",\\n    \\\"Examples\\\": [\\\"deeptech\\\", \\\"startups\\\", \\\"entrepreneur\\\", \\\"investing decision\\\", \\\"problem understanding\\\", \\\"product demo\\\", \\\"team\\\", \\\"#deeptech\\\", \\\"#startups\\\", \\\"#entrepreneur\\\", \\\"#success\\\", \\\"#hacks\\\"]\\n},\\n\\\"Sentence Structure\\\": {\\n    \\\"Description\\\": \\\"The user prefers using active voice and varies sentence length. The user often uses questions to engage the audience and lists to break down complex ideas.\\\",\\n    \\\"Examples\\\": [\\\"we looked into 10 deeptech startups to understand what they did right and where they went wrong.\\\", \\\"what do i look for in startups when making an investing decision?\\\"]\\n},\\n\\\"Platform-Specific Formatting\\\": {\\n    \\\"Description\\\": \\\"The user's posts are formatted for social media platforms like LinkedIn. The user uses line breaks and double line breaks to separate ideas and paragraphs. The user also uses hashtags to highlight key topics and tag relevant people or organizations.\\\",\\n    \\\"Examples\\\": [\\\"< newline / >\\\", \\\"< doublelinebreak / >\\\", \\\"#deeptech\\\", \\\"#startups\\\", \\\"#entrepreneur\\\", \\\"#success\\\", \\\"#hacks\\\"]\\n},\\n\\\"Inclusivity & Accessibility\\\": {\\n    \\\"Description\\\": \\\"The user uses gender-neutral language and avoids complex jargon to ensure readability and inclusivity.\\\",\\n    \\\"Examples\\\": [\\\"if you are a deeptech entrepreneur, a wannabe, or work at one, these are the hacks you need to apply every day to the business.\\\"]\\n},\\n\\\"Semantic Rules\\\": {\\n    \\\"Description\\\": \\\"The user adjusts the tone based on the context and avoids repetition by using synonyms or rephrasing sentences. The user also uses metaphors to explain complex ideas.\\\",\\n    \\\"Examples\\\": [\\\"standing on the shoulders of others, make you see further, and ahead of time.\\\", \\\"is it a painkiller or just a nice - to - have?\\\"]\\n},\\n\\\"Consistency\\\": {\\n    \\\"Description\\\": \\\"The user consistently uses lowercase letters, even when referring to oneself as 'i'. The user also consistently uses spaces around hyphens and slashes.\\\",\\n    \\\"Examples\\\": [\\\"i love hearing user stories - - successes and failures.\\\", \\\"< newline / >\\\", \\\"< doublelinebreak / >\\\"]\\n}\\n}\"\n",
    "# )"
   ]
  },
  {
   "cell_type": "code",
   "execution_count": 32,
   "metadata": {},
   "outputs": [
    {
     "name": "stdout",
     "output_type": "stream",
     "text": [
      "\n",
      "\n",
      "\u001b[1m> Entering new LLMChain chain...\u001b[0m\n",
      "Prompt after formatting:\n",
      "\u001b[32;1m\u001b[1;3m\n",
      "    You are an AI language model assistant. Your task is to rerank passages related to a \n",
      "    query based on their relevance. \n",
      "    The most relevant passages should be put at the beginning. \n",
      "    You should only pick at max 5 passages.\n",
      "    The provided and reranked documents are separated by '\n",
      "#next-document#\n",
      "'.\n",
      "    \n",
      "    The following are passages related to this query: \n",
      "    My author_id is https://www.linkedin.com/in/varunaggarwal2\n",
      "    i want to draft a LinkedIn post discussing what are common mistakes that entrepreneurs make??.\n",
      "    .\n",
      "    \n",
      "    Passages: \n",
      "    at change engine, we talk to several ai startups. < doublelinebreak / > what do i look for in startups when making an investing decision? < doublelinebreak / > 1. problem understanding : do the founders truly understand the problem? have they done value chain mapping to know how the process works today, where the inefficiencies are, and why they exist? < doublelinebreak / > 2. product demo : the demo is crucial. is the ui / ux seamless? how well does the ai solve the problem? is it a painkiller or just a nice - to - have? i love hearing user stories - - successes and failures. < doublelinebreak / > 3. team : i prefer a balance of tech and business co - founders. how driven are they? how well do they listen to customers and\n",
      "#next-document#\n",
      "the fight for the ace fellowship is heating up. we have 200 + applications from aspiring entrepreneurs who wants to participate in our 6 month program to build a < newline / > hashtag < newline / > # < newline / > jobtech < newline / > startup. < newline / > in parallel, we have started nurturing these entrepreneurs to fine tune their ideas to build scalable and impactful startups. < newline / > mukul singhal < newline / > from < newline / > pravega ventures < newline / > and i will discuss this thursday, \" what business models attract money? \" < newline / > we seek to demystify how one must think of the business model for his / her idea. we will start from the basics and debate some intriguing case studies. < newline / > come join\n",
      "#next-document#\n",
      "himanshu aggarwal < newline / > and i will talk through the aspiring minds story today at 530pm! < newline / > we will bring you insights using change engine ' s ace framework of building successful startups. < newline / > a. identifying the problem to solve < newline / > b. finding the right business model / markets < newline / > c. developing escape velocity < newline / > do not miss, register here : < newline / > [ url ] out ace here : < newline / > [ url ]\n",
      "#next-document#\n",
      "we are seeing many startups failing these days. < newline / > the primary purpose of the ace program was to reduce failure rates while entrepreneurs work on tough problems. < newline / > as we announce, the next cohort of ace, join an engaging session with my colleague, < newline / > shailendra nath jha < newline / > where we will delve into the factors that often lead to startup failures. shailendra, an isb alum has 15 + experience of working in some of the most successful startups such as mmt, spinny, nearbuy etc. < newline / > he will be joined by a dynamic incubated startup founder < newline / > bhavesh kotwani < newline / > ( bits alum ) who will take the stage to share his startup journey and how < newline / > change\n",
      "#next-document#\n",
      "building deeptech startups is challenging! < newline / > we looked into 10 deeptech < newline / > hashtag < newline / > # < newline / > startups < newline / > to understand what they did right and where they went wrong. we distilled this knowledge in 6 < newline / > hashtag < newline / > # < newline / > success < newline / > hashtag < newline / > # < newline / > hacks < newline / >! < newline / > standing on the shoulders of others, make you see further, and ahead of time. if you are a < newline / > hashtag < newline / > # < newline / > deeptech < newline / > hashtag < newline / > # < newline / > entrepreneur < newline / >, a wannabe, or work at one, these are the hacks you need to apply every day to the business, or also, when you step back a little, look at your business from a\n",
      "#next-document#\n",
      "great interacting with new dynamic entrepreneurs and hearing their ideas over a full week and thinking about how to build scalable innovative businesses and non - profits. < newline / > from ai led seo platform to new age gaming to fixing affordable school and to empowering rural women, there were a wonderful set of ideas! < newline / > looking forward to working with many of these entrepreneurs in coming days.\n",
      "#next-document#\n",
      "at change engine, we talk to several ai startups. < doublelinebreak / > what do i look for in startups when making an investing decision? < doublelinebreak / > 1. problem understanding : do the founders truly understand the problem? have they done value chain mapping to know how the process works today, where the inefficiencies are, and why they exist? < doublelinebreak / > 2. product demo : the demo is crucial. is the ui / ux seamless? how well does the ai solve the problem? is it a painkiller or just a nice - to - have? i love hearing user stories - - successes and failures. < doublelinebreak / > 3. team : i prefer a balance of tech and business co - founders. how driven are they? how well do they listen to customers and\n",
      "#next-document#\n",
      "we are seeing many startups failing these days. < newline / > the primary purpose of the ace program was to reduce failure rates while entrepreneurs work on tough problems. < newline / > as we announce, the next cohort of ace, join an engaging session with my colleague, < newline / > shailendra nath jha < newline / > where we will delve into the factors that often lead to startup failures. shailendra, an isb alum has 15 + experience of working in some of the most successful startups such as mmt, spinny, nearbuy etc. < newline / > he will be joined by a dynamic incubated startup founder < newline / > bhavesh kotwani < newline / > ( bits alum ) who will take the stage to share his startup journey and how < newline / > change\n",
      "#next-document#\n",
      "we are seeing many startups failing these days. < newline / > the primary purpose of the ace program was to reduce failure rates while entrepreneurs work on tough problems. < newline / > as we announce, the next cohort of ace, join an engaging session with my colleague, < newline / > shailendra nath jha < newline / > where we will delve into the factors that often lead to startup failures. shailendra, an isb alum has 15 + experience of working in some of the most successful startups such as mmt, spinny, nearbuy etc. < newline / > he will be joined by a dynamic incubated startup founder < newline / > bhavesh kotwani < newline / > ( bits alum ) who will take the stage to share his startup journey and how < newline / > change\n",
      "#next-document#\n",
      "at change engine, we talk to several ai startups. < doublelinebreak / > what do i look for in startups when making an investing decision? < doublelinebreak / > 1. problem understanding : do the founders truly understand the problem? have they done value chain mapping to know how the process works today, where the inefficiencies are, and why they exist? < doublelinebreak / > 2. product demo : the demo is crucial. is the ui / ux seamless? how well does the ai solve the problem? is it a painkiller or just a nice - to - have? i love hearing user stories - - successes and failures. < doublelinebreak / > 3. team : i prefer a balance of tech and business co - founders. how driven are they? how well do they listen to customers and\n",
      "    \u001b[0m\n",
      "\n",
      "\u001b[1m> Finished chain.\u001b[0m\n",
      "0: Reranked Passages:\n",
      "\n",
      "1. we are seeing many startups failing these days. < newline / > the primary purpose of the ace program was to reduce failure rates while entrepreneurs work on tough problems. < newline / > as we announce, the next cohort of ace, join an engaging session with my colleague, < newline / > shailendra nath jha < newline / > where we will delve into the factors that often lead to startup failures. shailendra, an isb alum has 15 + experience of working in some of the most successful startups such as mmt, spinny, nearbuy etc. < newline / > he will be joined by a dynamic incubated startup founder < newline / > bhavesh kotwani < newline / > ( bits alum ) who will take the stage to share his startup journey and how < newline / > change\n",
      "1: 2. building deeptech startups is challenging! < newline / > we looked into 10 deeptech < newline / > hashtag < newline / > # < newline / > startups < newline / > to understand what they did right and where they went wrong. we distilled this knowledge in 6 < newline / > hashtag < newline / > # < newline / > success < newline / > hashtag < newline / > # < newline / > hacks < newline / >! < newline / > standing on the shoulders of others, make you see further, and ahead of time. if you are a < newline / > hashtag < newline / > # < newline / > deeptech < newline / > hashtag < newline / > # < newline / > entrepreneur < newline / >, a wannabe, or work at one, these are the hacks you need to apply every day to the business, or also, when you step back a little, look at your business from a\n",
      "2: 3. at change engine, we talk to several ai startups. < doublelinebreak / > what do i look for in startups when making an investing decision? < doublelinebreak / > 1. problem understanding : do the founders truly understand the problem? have they done value chain mapping to know how the process works today, where the inefficiencies are, and why they exist? < doublelinebreak / > 2. product demo : the demo is crucial. is the ui / ux seamless? how well does the ai solve the problem? is it a painkiller or just a nice - to - have? i love hearing user stories - - successes and failures. < doublelinebreak / > 3. team : i prefer a balance of tech and business co - founders. how driven are they? how well do they listen to customers and\n",
      "3: 4. himanshu aggarwal < newline / > and i will talk through the aspiring minds story today at 530pm! < newline / > we will bring you insights using change engine ' s ace framework of building successful startups. < newline / > a. identifying the problem to solve < newline / > b. finding the right business model / markets < newline / > c. developing escape velocity < newline / > do not miss, register here : < newline / > [ url ] out ace here : < newline / > [ url ]\n",
      "4: 5. the fight for the ace fellowship is heating up. we have 200 + applications from aspiring entrepreneurs who wants to participate in our 6 month program to build a < newline / > hashtag < newline / > # < newline / > jobtech < newline / > startup. < newline / > in parallel, we have started nurturing these entrepreneurs to fine tune their ideas to build scalable and impactful startups. < newline / > mukul singhal < newline / > from < newline / > pravega ventures < newline / > and i will discuss this thursday, \" what business models attract money? \" < newline / > we seek to demystify how one must think of the business model for his / her idea. we will start from the basics and debate some intriguing case studies. < newline / > come join\n"
     ]
    }
   ],
   "source": [
    "\n",
    "reranked_hits = retriever.rerank(hits=hits, keep_top_k=5)\n",
    "for rank, hit in enumerate(reranked_hits):\n",
    "    print(f\"{rank}: {hit}\")\n",
    "# reranked_hits = [\"himanshu aggarwal < newline / > and i will talk through the aspiring minds story today at 530pm! < newline / > we will bring you insights using change engine ' s ace framework of building successful startups. < newline / > a. identifying the problem to solve < newline / > b. finding the right business model / markets < newline / > c. developing escape velocity < newline / > do not miss, register here : < newline / > [ url ] out ace here : < newline / > [ url ]\", \"join < newline / > manish gupta < newline / > and me today evening for an insightful conversation on ' building an ai startup in times of llm '. whether you are a seasoned entrepreneur or just starting your journey, this session is designed to be valuable for both sets of individuals. do not miss.....\", 'at change engine, we talk to several ai startups. < doublelinebreak / > what do i look for in startups when making an investing decision? < doublelinebreak / > 1. problem understanding : do the founders truly understand the problem? have they done value chain mapping to know how the process works today, where the inefficiencies are, and why they exist? < doublelinebreak / > 2. product demo : the demo is crucial. is the ui / ux seamless? how well does the ai solve the problem? is it a painkiller or just a', 'the fight for the ace fellowship is heating up. we have 200 + applications from aspiring entrepreneurs who wants to participate in our 6 month program to build a < newline / > hashtag < newline / > # < newline / > jobtech < newline / > startup. < newline / > in parallel, we have started nurturing these entrepreneurs to fine tune their ideas to build scalable and impactful startups. < newline / > mukul singhal < newline / > from < newline / > pravega ventures < newline / > and i will discuss this thursday, \" what business models attract', 'congratulations to the inaugural ace startup cohort 2023! < newline / > we are thrilled to announce that we found these kickass entrepreneurs and will be joining their exciting journey to success. with our passion for innovation and years of entrepreneurial experience, we will nurture their thoughts and collectively brew some groundbreaking ideas that can become thriving organizations over the next 6 months. < newline / > watch this space. we will keep you updated as these new founders make progress.']\n",
    "# model = ChatOpenAI(model=settings.OPENAI_MODEL_ID, temperature=0)   \n",
    "# get_tone_understanding_prompt_template = GetToneUnderstandingPromptTemplate()\n",
    "# prompt_template = get_tone_understanding_prompt_template.create_template()\n",
    "# chain = GeneralQueryChain().get_chain(\n",
    "#     llm=model, output_key=\"tone_understanding\", template=prompt_template\n",
    "# )\n",
    "# response = chain.invoke({\"author_id\":\"https://www.linkedin.com/in/varunaggarwal2\", \"posts\":reranked_hits})\n",
    "# logger.info(f\"Get Tone Understanding.generate_response() result: \\033[93m{response['tone_understanding']}\\033[0m\")\n",
    "\n"
   ]
  },
  {
   "cell_type": "code",
   "execution_count": 33,
   "metadata": {},
   "outputs": [],
   "source": [
    "\n",
    "prompt = f\"\"\"\n",
    "You are a helpful assistant that can draft a LinkedIn post.\n",
    "USING ONLY THE FOLLOWING tone, patterns and voice of the author {author_id} extracted from similar posts to the current topic, draft me a LinkedIn post discussing what are common mistakes that entrepreneurs make?.\n",
    "\n",
    "The tone, patterns and voice of the author is: {response['tone_understanding']}\n",
    "\"\"\"\n",
    "response = model.invoke(prompt)\n",
    "logger.info(f\"Response: \\033[93m{response.content}\\033[0m\")\n",
    "\n"
   ]
  },
  {
   "cell_type": "code",
   "execution_count": 34,
   "metadata": {},
   "outputs": [
    {
     "name": "stdout",
     "output_type": "stream",
     "text": [
      "In the dynamic world of entrepreneurship, we often see common mistakes that can hinder the growth and success of startups. Here are a few that I've observed:\n",
      "\n",
      "1. Lack of Market Understanding: Many entrepreneurs dive into their ventures without a comprehensive understanding of the market. This can lead to a misalignment between the product or service and the actual needs of the customers.\n",
      "\n",
      "2. Inadequate Business Model: A robust business model is the backbone of any successful startup. Entrepreneurs often underestimate its importance, leading to unsustainable growth or even failure.\n",
      "\n",
      "3. Ignoring Customer Feedback: How well an entrepreneur listens to their customers can make or break their startup. Ignoring customer feedback can result in a product that doesn't meet market needs.\n",
      "\n",
      "4. Poor Financial Management: Startups need to have a clear financial plan. Mismanagement of funds can lead to a quick burnout.\n",
      "\n",
      "5. Not Adapting to Change: The business landscape is constantly evolving. Entrepreneurs who fail to adapt their strategies to these changes often find themselves struggling.\n",
      "\n",
      "At Change Engine, we are committed to nurturing entrepreneurs and helping them avoid these common pitfalls. We believe that with the right guidance and support, every entrepreneur can turn their vision into a successful venture.\n",
      "\n",
      "#Entrepreneurship #Startups #BusinessMistakes\n"
     ]
    }
   ],
   "source": [
    "print(response.content)"
   ]
  },
  {
   "cell_type": "code",
   "execution_count": null,
   "metadata": {},
   "outputs": [],
   "source": []
  }
 ],
 "metadata": {
  "kernelspec": {
   "display_name": ".venv",
   "language": "python",
   "name": "python3"
  },
  "language_info": {
   "codemirror_mode": {
    "name": "ipython",
    "version": 3
   },
   "file_extension": ".py",
   "mimetype": "text/x-python",
   "name": "python",
   "nbconvert_exporter": "python",
   "pygments_lexer": "ipython3",
   "version": "3.12.5"
  }
 },
 "nbformat": 4,
 "nbformat_minor": 2
}
