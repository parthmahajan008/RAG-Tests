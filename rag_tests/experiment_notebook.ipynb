{
 "cells": [
  {
   "cell_type": "code",
   "execution_count": null,
   "metadata": {},
   "outputs": [],
   "source": [
    "from rag_tests.qdrant_db import QdrantDatabaseConnector\n",
    "from rag_tests.config import settings\n",
    "from dotenv import load_dotenv\n",
    "from rag_tests.llm.chain import GeneralQueryChain\n",
    "from rag_tests.rag.retreiver import VectorRetriever\n",
    "from langchain_openai import ChatOpenAI\n",
    "from rag_tests.config import settings\n",
    "from rag_tests.llm.prompt_templates import GetToneUnderstandingPromptTemplate, ExtractToneFromHitsPromptTemplate"
   ]
  },
  {
   "cell_type": "markdown",
   "metadata": {},
   "source": [
    "## PROMPTS"
   ]
  },
  {
   "cell_type": "code",
   "execution_count": null,
   "metadata": {},
   "outputs": [],
   "source": []
  },
  {
   "cell_type": "markdown",
   "metadata": {},
   "source": [
    "## GENERATION FLOW"
   ]
  },
  {
   "cell_type": "code",
   "execution_count": null,
   "metadata": {},
   "outputs": [],
   "source": [
    "TOPIC = \"\"\"what are common mistakes that entrepreneurs make??.\"\"\"\n",
    "AUTHOR_ID = \"https://www.linkedin.com/in/varunaggarwal2\""
   ]
  },
  {
   "cell_type": "code",
   "execution_count": null,
   "metadata": {},
   "outputs": [],
   "source": [
    "collection_name = f\"TEST_VARUN_{settings.EMBEDDING_MODEL_ID.replace('/','_')}\""
   ]
  },
  {
   "cell_type": "code",
   "execution_count": null,
   "metadata": {},
   "outputs": [],
   "source": [
    "load_dotenv()\n",
    "print(\"Starting the process\")\n",
    "\n",
    "author_id = \"https://www.linkedin.com/in/varunaggarwal2\"\n",
    "query = f\"\"\"\n",
    "    My author_id is https://www.linkedin.com/in/varunaggarwal2\n",
    "    i want to draft a LinkedIn post discussing {TOPIC}.\n",
    "    \"\"\"\n",
    "retriever = VectorRetriever(query=query)\n",
    "hits = retriever.retrieve_top_k(k=6, to_expand_to_n_queries=5, collection_name=collection_name)\n",
    "print(f\"Retrieved hits: {hits}\")\n",
    "\n"
   ]
  },
  {
   "cell_type": "code",
   "execution_count": null,
   "metadata": {},
   "outputs": [],
   "source": [
    "[{\"Post \" + str(i): hit.payload['content']} for i, hit in enumerate(hits)]"
   ]
  },
  {
   "cell_type": "code",
   "execution_count": null,
   "metadata": {},
   "outputs": [],
   "source": [
    "# Extracting tone from all hits\n",
    "model = ChatOpenAI(model=settings.OPENAI_MODEL_ID, temperature=0)   \n",
    "get_tone_understanding_prompt_template = ExtractToneFromHitsPromptTemplate()\n",
    "prompt_template = get_tone_understanding_prompt_template.create_template()\n",
    "chain = GeneralQueryChain().get_chain(\n",
    "    llm=model, output_key=\"tone_understanding\", template=prompt_template\n",
    ")\n",
    "response = chain.invoke({\"author_id\":AUTHOR_ID, \"posts\":[{\"Post \" + str(i): hit.payload['content']} for i, hit in enumerate(hits)]})\n",
    "print(f\"Get Tone Understanding.generate_response() result: \\033[93m{response['tone_understanding']}\\033[0m\")"
   ]
  },
  {
   "cell_type": "code",
   "execution_count": null,
   "metadata": {},
   "outputs": [],
   "source": [
    "print(response['tone_understanding'])"
   ]
  },
  {
   "cell_type": "code",
   "execution_count": null,
   "metadata": {},
   "outputs": [],
   "source": [
    "reranked_hits = retriever.rerank(hits=hits, keep_top_k=5)\n",
    "for rank, hit in enumerate(reranked_hits):\n",
    "    print(f\"{rank}: {hit}\")"
   ]
  },
  {
   "cell_type": "code",
   "execution_count": null,
   "metadata": {},
   "outputs": [],
   "source": [
    "\n",
    "prompt = f\"\"\"\n",
    "You are a helpful assistant that can draft a LinkedIn post.\n",
    "USING ONLY THE FOLLOWING tone, patterns and voice of the author {AUTHOR_ID} extracted from similar posts to the current topic, draft me a LinkedIn post discussing {TOPIC}.\n",
    "\n",
    "The tone, patterns and voice of the author is: {response['tone_understanding']}\n",
    "\"\"\"\n",
    "response = model.invoke(prompt)\n",
    "print(f\"Response: \\033[93m{response.content}\\033[0m\")"
   ]
  },
  {
   "cell_type": "code",
   "execution_count": null,
   "metadata": {},
   "outputs": [],
   "source": [
    "print(response.content)"
   ]
  }
 ],
 "metadata": {
  "language_info": {
   "name": "python"
  }
 },
 "nbformat": 4,
 "nbformat_minor": 2
}
