{
 "cells": [
  {
   "cell_type": "code",
   "execution_count": null,
   "metadata": {},
   "outputs": [],
   "source": [
    "from rag_tests.db.mongo import connection\n",
    "from rag_tests.core import get_logger\n",
    "logger = get_logger(__name__)\n",
    "mongo_db_connector = connection"
   ]
  },
  {
   "cell_type": "code",
   "execution_count": null,
   "metadata": {},
   "outputs": [],
   "source": [
    "def fetch_posts_from_mongo_by_author_firstname(firstname:str):\n",
    "    _database = mongo_db_connector.get_database(\"scrabble\")\n",
    "    collection = _database[\"posts\"]\n",
    "    return collection.find({\"author_id\": {\"$regex\": firstname, \"$options\": \"i\"}})"
   ]
  },
  {
   "cell_type": "code",
   "execution_count": null,
   "metadata": {},
   "outputs": [],
   "source": [
    "from rag_tests.models.base import BaseModel\n",
    "from rag_tests.models import PostsRawModel, PostChunkModel, PostCleanedModel, PostEmbeddedChunkModel\n",
    "from qdrant_client.models import Batch\n",
    "from rag_tests.models.clean import PostCleanedModel\n",
    "from rag_tests.data_logic.cleaning_data_handlers import PostCleaningHandler\n",
    "from rag_tests.data_logic.chunking_data_handlers import PostChunkingHandler\n",
    "from rag_tests.data_logic.embedding_data_handlers import PostEmbeddingDataHandler\n",
    "from rag_tests.qdrant_db import QdrantDatabaseConnector\n",
    "from rag_tests.config import settings\n",
    "collection_name = f\"TEST_VARUN_{settings.EMBEDDING_MODEL_ID.replace('/','_')}\""
   ]
  },
  {
   "cell_type": "code",
   "execution_count": null,
   "metadata": {},
   "outputs": [],
   "source": [
    "cursor = fetch_posts_from_mongo_by_author_firstname(\"varun\")\n",
    "raw_posts = []\n",
    "seen_posts = set()\n",
    "flag =True\n",
    "for post in cursor:\n",
    "    if flag : \n",
    "        print(post.keys())\n",
    "        flag = False\n",
    "    entry_id = post[\"_id\"]\n",
    "    if entry_id not in seen_posts:\n",
    "        seen_posts.add(entry_id)\n",
    "        # remove _id from post\n",
    "        post.pop(\"_id\")\n",
    "\n",
    "        raw_posts.append(PostsRawModel(entry_id=entry_id, **post))\n"
   ]
  },
  {
   "cell_type": "code",
   "execution_count": null,
   "metadata": {},
   "outputs": [],
   "source": [
    "# raw_posts= raw_posts[:110]"
   ]
  },
  {
   "cell_type": "code",
   "execution_count": null,
   "metadata": {},
   "outputs": [],
   "source": [
    "cleaning_handler  = PostCleaningHandler()\n",
    "cleaned_posts = []\n",
    "for raw_post in raw_posts:\n",
    "    cleaned_obj = cleaning_handler.clean(raw_post)\n",
    "    cleaned_posts.append(cleaned_obj)\n",
    "\n",
    "print(f\"Number of cleaned posts: {len(cleaned_posts)}\")\n"
   ]
  },
  {
   "cell_type": "code",
   "execution_count": null,
   "metadata": {},
   "outputs": [],
   "source": [
    "\n",
    "chunking_handler = PostChunkingHandler()\n",
    "chunked_posts = []\n",
    "for cleaned_post in cleaned_posts:\n",
    "    chunked_obj = chunking_handler.chunk(cleaned_post)\n",
    "    chunked_posts.append(chunked_obj)\n",
    "\n",
    "print(f\"Number of chunked posts: {len(chunked_posts)}\")\n"
   ]
  },
  {
   "cell_type": "code",
   "execution_count": null,
   "metadata": {},
   "outputs": [],
   "source": [
    "\n",
    "embedding_handler = PostEmbeddingDataHandler()\n",
    "embedded_posts:list[PostEmbeddedChunkModel] = []\n",
    "for chunked_post in chunked_posts:\n",
    "    embedded_obj = embedding_handler.embedd(chunked_post[0])\n",
    "    embedded_posts.append(embedded_obj)\n",
    "\n",
    "print(f\"Number of embedded posts: {len(embedded_posts)}\")\n"
   ]
  },
  {
   "cell_type": "code",
   "execution_count": null,
   "metadata": {},
   "outputs": [],
   "source": [
    "qdrant_db = QdrantDatabaseConnector()\n",
    "payloads = [\n",
    "    post.to_payload() for post in embedded_posts\n",
    "]\n",
    "ids, vectors, metadatas = zip(*payloads)\n",
    "\n",
    "collection_name = f\"TEST_VARUN_{settings.EMBEDDING_MODEL_ID.replace('/','_')}\"\n",
    "qdrant_db.create_vector_collection(collection_name)\n",
    "qdrant_db.write_data(collection_name, points=Batch(ids=ids, vectors=vectors, payloads=metadatas))\n",
    "print(f\"Chala bhai daaldi {len(embedded_posts)} posts qdrant mei\")"
   ]
  }
 ],
 "metadata": {
  "kernelspec": {
   "display_name": ".venv",
   "language": "python",
   "name": "python3"
  },
  "language_info": {
   "name": "python",
   "version": "3.12.5"
  }
 },
 "nbformat": 4,
 "nbformat_minor": 2
}
